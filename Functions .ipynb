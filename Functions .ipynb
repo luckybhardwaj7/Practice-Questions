{
 "cells": [
  {
   "cell_type": "code",
   "execution_count": 1,
   "id": "d75cff99",
   "metadata": {},
   "outputs": [
    {
     "name": "stdout",
     "output_type": "stream",
     "text": [
      "The product is 12.\n"
     ]
    }
   ],
   "source": [
    "#Function definition\n",
    "def determine_product(num1, num2):\n",
    "    product = num1 * num2\n",
    "    print(f'The product is {product}.')\n",
    " \n",
    "# Function calling/invocation\n",
    "determine_product(4, 3)"
   ]
  },
  {
   "cell_type": "code",
   "execution_count": 2,
   "id": "5a3603ee",
   "metadata": {},
   "outputs": [
    {
     "name": "stdout",
     "output_type": "stream",
     "text": [
      "106000\n"
     ]
    }
   ],
   "source": [
    "import statistics\n",
    "employee_annual_salary_usd_list = [106000, 126000, 123000, 95000, 82000]\n",
    "x=statistics.median(employee_annual_salary_usd_list)\n",
    "print(x)\n"
   ]
  },
  {
   "cell_type": "code",
   "execution_count": 3,
   "id": "98f67e92",
   "metadata": {},
   "outputs": [
    {
     "name": "stdout",
     "output_type": "stream",
     "text": [
      "Your department has a median salary of $106000.\n"
     ]
    }
   ],
   "source": [
    "print(f'Your department has a median salary of ${statistics.median(employee_annual_salary_usd_list)}.')"
   ]
  },
  {
   "cell_type": "code",
   "execution_count": 4,
   "id": "cae29082",
   "metadata": {},
   "outputs": [
    {
     "name": "stdout",
     "output_type": "stream",
     "text": [
      "Robert Smith earns 126000 dollars/year\n"
     ]
    }
   ],
   "source": [
    "def print_details(emp_name,salary):\n",
    "      print(f'{emp_name} earns {str(salary)} dollars/year')\n",
    "\n",
    "print_details('Robert Smith', 126000)"
   ]
  },
  {
   "cell_type": "code",
   "execution_count": 5,
   "id": "e09ddb9d",
   "metadata": {},
   "outputs": [
    {
     "name": "stdout",
     "output_type": "stream",
     "text": [
      "+91-9876543210\n"
     ]
    }
   ],
   "source": [
    "def print_phone_number(country,phone_number):\n",
    "    print(f'+{country}-{phone_number}')\n",
    "print_phone_number(91,9876543210)"
   ]
  },
  {
   "cell_type": "code",
   "execution_count": null,
   "id": "aabd59c3",
   "metadata": {},
   "outputs": [],
   "source": []
  }
 ],
 "metadata": {
  "kernelspec": {
   "display_name": "Python 3 (ipykernel)",
   "language": "python",
   "name": "python3"
  },
  "language_info": {
   "codemirror_mode": {
    "name": "ipython",
    "version": 3
   },
   "file_extension": ".py",
   "mimetype": "text/x-python",
   "name": "python",
   "nbconvert_exporter": "python",
   "pygments_lexer": "ipython3",
   "version": "3.9.12"
  }
 },
 "nbformat": 4,
 "nbformat_minor": 5
}
